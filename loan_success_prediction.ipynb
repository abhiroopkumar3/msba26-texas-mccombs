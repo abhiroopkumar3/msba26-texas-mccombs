{
 "cells": [
  {
   "cell_type": "markdown",
   "metadata": {},
   "source": [
    "# **Loan Success Prediction**"
   ]
  },
  {
   "cell_type": "markdown",
   "metadata": {},
   "source": [
    "- **GROUP DETAILS**\n",
    "    - GROUP: _Group 7_\n",
    "    - AUTHORS: _Mrunal Dalvi, Abhiroop Kumar, Emily Lagnese, Keerti Rawat_"
   ]
  },
  {
   "cell_type": "markdown",
   "metadata": {},
   "source": [
    "- **COURSE DETAILS**\n",
    "    - COURSE: _Data Science Programming (MIS 381N)_\n",
    "    - CLASS: _71585_\n",
    "    - SEMESTER: _SUMMER 2025_\n",
    "    - PROFESSOR: _Deepayan Chakrabarti_\n",
    "    - SUBMISSION DUE: _Aug 11 at 10am_"
   ]
  },
  {
   "cell_type": "markdown",
   "metadata": {},
   "source": [
    "- **VERSIONING DETAILS**\n",
    "    - LAST UPDATED BY: _Abhiroop Kumar_\n",
    "    - LAST UPDATED DATE: _Aug 26_\n",
    "    - LAST UPDATE MESSAGE: _File modified for Git Push_"
   ]
  },
  {
   "cell_type": "markdown",
   "metadata": {},
   "source": [
    "---"
   ]
  },
  {
   "cell_type": "code",
   "execution_count": 116,
   "metadata": {},
   "outputs": [],
   "source": [
    "# Import libraries\n",
    "import pandas as pd\n",
    "import numpy as np\n",
    "import matplotlib.pyplot as plt\n",
    "import seaborn as sns\n",
    "from sklearn.preprocessing import LabelEncoder\n",
    "from sklearn.model_selection import train_test_split\n",
    "from sklearn.ensemble import RandomForestClassifier\n",
    "from sklearn.utils.class_weight import compute_class_weight\n",
    "import xgboost as xgb\n",
    "from sklearn.linear_model import LogisticRegression\n",
    "from sklearn.metrics import confusion_matrix, accuracy_score, precision_score, recall_score, precision_recall_curve\n"
   ]
  },
  {
   "cell_type": "markdown",
   "metadata": {},
   "source": [
    "---"
   ]
  },
  {
   "cell_type": "markdown",
   "metadata": {},
   "source": [
    "1. Data Loading and Target Variable Creation"
   ]
  },
  {
   "cell_type": "code",
   "execution_count": 117,
   "metadata": {},
   "outputs": [
    {
     "name": "stdout",
     "output_type": "stream",
     "text": [
      "Datasets loaded successfully.\n",
      "\n",
      "Common columns:\n",
      "['ApprovalDate', 'AsOfDate', 'BorrCity', 'BorrName', 'BorrState', 'BorrStreet', 'BorrZip', 'BusinessAge', 'BusinessType', 'CollateralInd', 'CongressionalDistrict', 'FirstDisbursementDate', 'FranchiseCode', 'FranchiseName', 'GrossApproval', 'JobsSupported', 'LoanStatus', 'LocationID', 'ProcessingMethod', 'Program', 'ProjectCounty', 'ProjectState', 'SBADistrictOffice', 'Subprogram']\n",
      "\n",
      "Columns only in the 504 dataset:\n",
      "['ApprovalFiscalYear', 'CDC_City', 'CDC_Name', 'CDC_State', 'CDC_Street', 'CDC_Zip', 'ChargeOffDate', 'GrossChargeOffAmount', 'NaicsCode', 'NaicsDescription', 'PaidInFullDate', 'TermInMonths', 'ThirdPartyDollars', 'ThirdPartyLender_City', 'ThirdPartyLender_Name', 'ThirdPartyLender_State', 'Year']\n",
      "\n",
      "Columns only in the 7a dataset:\n",
      "['ApprovalFY', 'BankCity', 'BankFDICNumber', 'BankNCUANumber', 'BankName', 'BankState', 'BankStreet', 'BankZip', 'ChargeoffDate', 'FixedorVariableInterestRate', 'GrossChargeoffAmount', 'InitialInterestRate', 'NAICSCode', 'NAICSDescription', 'PaidinFullDate', 'RevolverStatus', 'SBAGuaranteedApproval', 'SoldSecondMarketInd', 'TerminMonths']\n",
      "\n",
      "Columns in filtered_df_504 after renaming:\n",
      "Index(['AsOfDate', 'Program', 'BorrName', 'BorrStreet', 'BorrCity',\n",
      "       'BorrState', 'BorrZip', 'LocationID', 'CDC_Name', 'CDC_Street',\n",
      "       'CDC_City', 'CDC_State', 'CDC_Zip', 'ThirdPartyLender_Name',\n",
      "       'ThirdPartyLender_City', 'ThirdPartyLender_State', 'ThirdPartyDollars',\n",
      "       'GrossApproval', 'ApprovalDate', 'ApprovalFY', 'FirstDisbursementDate',\n",
      "       'ProcessingMethod', 'Subprogram', 'TerminMonths', 'NAICSCode',\n",
      "       'NAICSDescription', 'FranchiseCode', 'FranchiseName', 'ProjectCounty',\n",
      "       'ProjectState', 'SBADistrictOffice', 'CongressionalDistrict',\n",
      "       'BusinessType', 'BusinessAge', 'LoanStatus', 'PaidinFullDate',\n",
      "       'ChargeoffDate', 'GrossChargeoffAmount', 'JobsSupported',\n",
      "       'CollateralInd', 'Year'],\n",
      "      dtype='object')\n",
      "\n",
      "First 5 rows of dataset:\n",
      "    AsOfDate Program                    BorrName  \\\n",
      "0  6/30/2025     504  JAM Real Estate Entity TBF   \n",
      "1  6/30/2025     504               Pizzazzz Corp   \n",
      "2  6/30/2025     504               Ecodyst, Inc.   \n",
      "3  6/30/2025     504                Xavier Cales   \n",
      "4  6/30/2025     504                    DVLL LLC   \n",
      "\n",
      "                       BorrStreet   BorrCity BorrState  BorrZip  LocationID  \\\n",
      "0                 9 Marway Circle  Rochester        NY    14624    188158.0   \n",
      "1                281 Court Street   Brooklyn        NY    11231    188129.0   \n",
      "2            1010 Goodworth Drive       Apex        NC    27539    188110.0   \n",
      "3  PR-413, Km 4.7 Int., Sandy Bea     Rincon        PR      677    188120.0   \n",
      "4             7400 N. Croname Rd.      Niles        IL    60714    188291.0   \n",
      "\n",
      "                         CDC_Name                    CDC_Street  ...  \\\n",
      "0  Monroe County Industrial Devel           50 West Main Street  ...   \n",
      "1  Empire State Certified Develop  19 British American Blvd. E.  ...   \n",
      "2  Business Expansion Funding Cor            5970 Fairview Road  ...   \n",
      "3  Corporation para el Fromento E        171 Carlos Chardon Ave  ...   \n",
      "4  Small Business Growth Corporat    2401 West White Oaks Drive  ...   \n",
      "\n",
      "  BankNCUANumber BankStreet  BankCity BankState BankZip SBAGuaranteedApproval  \\\n",
      "0            NaN        NaN       NaN       NaN     NaN                   NaN   \n",
      "1            NaN        NaN       NaN       NaN     NaN                   NaN   \n",
      "2            NaN        NaN       NaN       NaN     NaN                   NaN   \n",
      "3            NaN        NaN       NaN       NaN     NaN                   NaN   \n",
      "4            NaN        NaN       NaN       NaN     NaN                   NaN   \n",
      "\n",
      "   InitialInterestRate  FixedorVariableInterestRate RevolverStatus  \\\n",
      "0                  NaN                          NaN            NaN   \n",
      "1                  NaN                          NaN            NaN   \n",
      "2                  NaN                          NaN            NaN   \n",
      "3                  NaN                          NaN            NaN   \n",
      "4                  NaN                          NaN            NaN   \n",
      "\n",
      "   SoldSecondMarketInd  \n",
      "0                  NaN  \n",
      "1                  NaN  \n",
      "2                  NaN  \n",
      "3                  NaN  \n",
      "4                  NaN  \n",
      "\n",
      "[5 rows x 53 columns]\n",
      "\n",
      "DataFrame Info:\n",
      "<class 'pandas.core.frame.DataFrame'>\n",
      "RangeIndex: 371612 entries, 0 to 371611\n",
      "Data columns (total 53 columns):\n",
      " #   Column                       Non-Null Count   Dtype  \n",
      "---  ------                       --------------   -----  \n",
      " 0   AsOfDate                     371612 non-null  object \n",
      " 1   Program                      371612 non-null  object \n",
      " 2   BorrName                     371610 non-null  object \n",
      " 3   BorrStreet                   371612 non-null  object \n",
      " 4   BorrCity                     371612 non-null  object \n",
      " 5   BorrState                    371612 non-null  object \n",
      " 6   BorrZip                      371612 non-null  int64  \n",
      " 7   LocationID                   371612 non-null  float64\n",
      " 8   CDC_Name                     40907 non-null   object \n",
      " 9   CDC_Street                   40907 non-null   object \n",
      " 10  CDC_City                     40907 non-null   object \n",
      " 11  CDC_State                    40907 non-null   object \n",
      " 12  CDC_Zip                      40907 non-null   float64\n",
      " 13  ThirdPartyLender_Name        40364 non-null   object \n",
      " 14  ThirdPartyLender_City        40364 non-null   object \n",
      " 15  ThirdPartyLender_State       40363 non-null   object \n",
      " 16  ThirdPartyDollars            40581 non-null   float64\n",
      " 17  GrossApproval                371612 non-null  float64\n",
      " 18  ApprovalDate                 371612 non-null  object \n",
      " 19  ApprovalFY                   371612 non-null  int64  \n",
      " 20  FirstDisbursementDate        298028 non-null  object \n",
      " 21  ProcessingMethod             371612 non-null  object \n",
      " 22  Subprogram                   371612 non-null  object \n",
      " 23  TerminMonths                 371612 non-null  int64  \n",
      " 24  NAICSCode                    371612 non-null  float64\n",
      " 25  NAICSDescription             345618 non-null  object \n",
      " 26  FranchiseCode                42173 non-null   object \n",
      " 27  FranchiseName                42023 non-null   object \n",
      " 28  ProjectCounty                371207 non-null  object \n",
      " 29  ProjectState                 371612 non-null  object \n",
      " 30  SBADistrictOffice            371612 non-null  object \n",
      " 31  CongressionalDistrict        371605 non-null  float64\n",
      " 32  BusinessType                 371611 non-null  object \n",
      " 33  BusinessAge                  371439 non-null  object \n",
      " 34  LoanStatus                   371612 non-null  object \n",
      " 35  PaidinFullDate               48378 non-null   object \n",
      " 36  ChargeoffDate                3753 non-null    object \n",
      " 37  GrossChargeoffAmount         371612 non-null  float64\n",
      " 38  JobsSupported                371612 non-null  float64\n",
      " 39  CollateralInd                371612 non-null  object \n",
      " 40  Year                         40907 non-null   float64\n",
      " 41  BankName                     330705 non-null  object \n",
      " 42  BankFDICNumber               296072 non-null  float64\n",
      " 43  BankNCUANumber               9316 non-null    float64\n",
      " 44  BankStreet                   330705 non-null  object \n",
      " 45  BankCity                     330705 non-null  object \n",
      " 46  BankState                    330705 non-null  object \n",
      " 47  BankZip                      330705 non-null  float64\n",
      " 48  SBAGuaranteedApproval        330705 non-null  float64\n",
      " 49  InitialInterestRate          330698 non-null  float64\n",
      " 50  FixedorVariableInterestRate  330698 non-null  object \n",
      " 51  RevolverStatus               330705 non-null  float64\n",
      " 52  SoldSecondMarketInd          96164 non-null   object \n",
      "dtypes: float64(15), int64(3), object(35)\n",
      "memory usage: 150.3+ MB\n",
      "\n",
      "Descriptive statistics of numerical columns:\n",
      "             BorrZip     LocationID       CDC_Zip  ThirdPartyDollars  \\\n",
      "count  371612.000000  371612.000000  40907.000000       4.058100e+04   \n",
      "mean    51956.138408  130399.056941  57349.329846       1.330455e+06   \n",
      "std     30375.020596  141663.465059  31119.537280       1.682308e+06   \n",
      "min       601.000000      27.000000    918.000000       3.245000e+04   \n",
      "25%     28675.000000   41214.000000  32303.000000       4.125000e+05   \n",
      "50%     49029.000000   58036.000000  58103.000000       7.904050e+05   \n",
      "75%     80220.000000  188146.000000  90071.000000       1.550000e+06   \n",
      "max     99929.000000  604893.000000  99212.000000       2.800000e+07   \n",
      "\n",
      "       GrossApproval     ApprovalFY   TerminMonths      NAICSCode  \\\n",
      "count   3.716120e+05  371612.000000  371612.000000  371612.000000   \n",
      "mean    5.685021e+05    2022.692739     155.190441  528069.571661   \n",
      "std     8.859671e+05       1.670007      82.332775  176793.007477   \n",
      "min     5.400000e+02    2020.000000       0.000000  111110.000000   \n",
      "25%     7.000000e+04    2021.000000     120.000000  441110.000000   \n",
      "50%     2.350000e+05    2023.000000     120.000000  541211.000000   \n",
      "75%     6.190000e+05    2024.000000     180.000000  711510.000000   \n",
      "max     5.500000e+06    2025.000000     420.000000  928120.000000   \n",
      "\n",
      "       CongressionalDistrict  GrossChargeoffAmount  JobsSupported  \\\n",
      "count          371605.000000          3.716120e+05  371612.000000   \n",
      "mean                9.416074          1.532565e+03      10.492734   \n",
      "std                10.561611          3.612333e+04      18.623574   \n",
      "min                 0.000000          0.000000e+00       0.000000   \n",
      "25%                 2.000000          0.000000e+00       2.000000   \n",
      "50%                 6.000000          0.000000e+00       5.000000   \n",
      "75%                12.000000          0.000000e+00      12.000000   \n",
      "max                53.000000          4.633000e+06     550.000000   \n",
      "\n",
      "               Year  BankFDICNumber  BankNCUANumber       BankZip  \\\n",
      "count  40907.000000   296072.000000     9316.000000  330705.00000   \n",
      "mean    2022.066346    19950.144698    45927.349936   43603.62176   \n",
      "std        1.561230    17600.644133    23627.501311   25839.36161   \n",
      "min     2020.000000       58.000000       28.000000     613.00000   \n",
      "25%     2021.000000     6560.000000    24692.000000   23219.00000   \n",
      "50%     2022.000000    17308.000000    61844.000000   43215.00000   \n",
      "75%     2023.000000    29950.000000    67190.000000   57104.00000   \n",
      "max     2025.000000    91005.000000    97107.000000   99701.00000   \n",
      "\n",
      "       SBAGuaranteedApproval  InitialInterestRate  RevolverStatus  \n",
      "count           3.307050e+05        330698.000000   330705.000000  \n",
      "mean            3.913129e+05             8.656077        0.272243  \n",
      "std             6.650940e+05             2.815738        0.445115  \n",
      "min             5.000000e+02             0.000000        0.000000  \n",
      "25%             3.750000e+04             6.000000        0.000000  \n",
      "50%             1.275000e+05             9.000000        0.000000  \n",
      "75%             3.851250e+05            10.750000        1.000000  \n",
      "max             4.500000e+06            16.500000        1.000000  \n"
     ]
    }
   ],
   "source": [
    "# Path to dataset\n",
    "file_504 = 'foia-504-fy2010-present-asof-250630.csv'\n",
    "file_7a = 'foia-7a-fy2020-present-asof-250630.csv'\n",
    "\n",
    "# Load dataset\n",
    "try:\n",
    "    df_504 = pd.read_csv(file_504, low_memory=False)\n",
    "    df_7a = pd.read_csv(file_7a, low_memory=False)\n",
    "    print(\"Datasets loaded successfully.\")\n",
    "except FileNotFoundError as e:\n",
    "    print(f\"Error: {e}. Please ensure both files are in the same directory.\")\n",
    "    exit()\n",
    "\n",
    "# Remove data before 2020 in the 'df_504' Data Frame\n",
    "df_504['ApprovalDate'] = pd.to_datetime(df_504['ApprovalDate'], errors='coerce')\n",
    "df_504['Year'] = df_504['ApprovalDate'].dt.year\n",
    "filtered_df_504 = df_504[df_504['Year'] >= 2020].copy()\n",
    "\n",
    "# Get columns from each Df\n",
    "cols_504 = set(filtered_df_504.columns)\n",
    "cols_7a = set(df_7a.columns)\n",
    "\n",
    "# Find common and different columns\n",
    "common_columns = sorted(list(cols_504.intersection(cols_7a)))\n",
    "cols_only_in_504 = sorted(list(cols_504.difference(cols_7a)))\n",
    "cols_only_in_7a = sorted(list(cols_7a.difference(cols_504)))\n",
    "\n",
    "print(\"\\nCommon columns:\")\n",
    "print(common_columns)\n",
    "print(\"\\nColumns only in the 504 dataset:\")\n",
    "print(cols_only_in_504)\n",
    "print(\"\\nColumns only in the 7a dataset:\")\n",
    "print(cols_only_in_7a)\n",
    "\n",
    "\n",
    "# Standardize Column Names before Merging\n",
    "\n",
    "# Create a dictionary to map column names from filtered_df_504 to df_7a\n",
    "# The keys are old column names from filtered_df_504, and values are the new names\n",
    "rename_cols = {\n",
    "    'TermInMonths': 'TerminMonths',\n",
    "    'NaicsCode': 'NAICSCode',\n",
    "    'NaicsDescription': 'NAICSDescription',\n",
    "    'PaidInFullDate': 'PaidinFullDate',\n",
    "    'ChargeOffDate': 'ChargeoffDate',\n",
    "    'GrossChargeOffAmount': 'GrossChargeoffAmount',\n",
    "    'ApprovalFiscalYear': 'ApprovalFY'\n",
    "}\n",
    "\n",
    "# Rename columns in filtered_df_504 using rename_cols\n",
    "filtered_df_504.rename(columns=rename_cols, inplace=True)\n",
    "\n",
    "# Display column names of filtered_df_504 after renaming\n",
    "print(\"\\nColumns in filtered_df_504 after renaming:\")\n",
    "print(filtered_df_504.columns)\n",
    "\n",
    "# Merge both Dfs\n",
    "df = pd.concat([filtered_df_504, df_7a], ignore_index=True)\n",
    "\n",
    "# Display few rows of Df\n",
    "print(\"\\nFirst 5 rows of dataset:\")\n",
    "print(df.head())\n",
    "\n",
    "# Display basic information about Df\n",
    "print(\"\\nDataFrame Info:\")\n",
    "df.info()\n",
    "\n",
    "# Display descriptive statistics for numerical columns\n",
    "print(\"\\nDescriptive statistics of numerical columns:\")\n",
    "print(df.describe())\n",
    "\n",
    "# Save merged Df to new CSV file\n",
    "# df.to_csv(\"merged_foia_data.csv\", index=False)\n",
    "# print(\"\\nMerged data saved to merged_foia_data.csv\")\n"
   ]
  },
  {
   "cell_type": "code",
   "execution_count": 118,
   "metadata": {},
   "outputs": [
    {
     "name": "stdout",
     "output_type": "stream",
     "text": [
      "\n",
      "Shape of dataset after filtering LoanStatus: (52181, 54)\n",
      "\n",
      "Value counts for new 'LoanSuccess' column:\n",
      "LoanSuccess\n",
      "0    48377\n",
      "1     3804\n",
      "Name: count, dtype: int64\n",
      "\n",
      "Value counts for original 'LoanStatus' column after filtering:\n",
      "LoanStatus\n",
      "PIF       48377\n",
      "CHGOFF     3804\n",
      "Name: count, dtype: int64\n"
     ]
    }
   ],
   "source": [
    "# Create response variable 'LoanSuccess'\n",
    "# In 'LoanStatus' column, we will take 'PIF' as success and 'CHGOFF' as default. Other statuses will be removed from analysis\n",
    "\n",
    "\n",
    "# Filter Df to include only 'PIF' and 'CHGOFF' statuses\n",
    "df_filtered = df[df['LoanStatus'].isin(['PIF', 'CHGOFF'])].copy()\n",
    "\n",
    "# Create 'LoanSuccess' column:\n",
    "# 'PIF' = 0, for successful repayment ; 'CHGOFF' = 1, for loan default\n",
    "df_filtered['LoanSuccess'] = df_filtered['LoanStatus'].map({'PIF': 0, 'CHGOFF': 1})\n",
    "\n",
    "# Verify creation of new column\n",
    "print(f\"\\nShape of dataset after filtering LoanStatus: {df_filtered.shape}\")\n",
    "print(\"\\nValue counts for new 'LoanSuccess' column:\")\n",
    "print(df_filtered['LoanSuccess'].value_counts())\n",
    "print(\"\\nValue counts for original 'LoanStatus' column after filtering:\")\n",
    "print(df_filtered['LoanStatus'].value_counts())\n"
   ]
  },
  {
   "cell_type": "markdown",
   "metadata": {},
   "source": [
    "---"
   ]
  },
  {
   "cell_type": "markdown",
   "metadata": {},
   "source": [
    "2. Data Preprocessing"
   ]
  },
  {
   "cell_type": "markdown",
   "metadata": {},
   "source": [
    "Note: I've modified the data removal of the row-wise elimination of empty values, because it cut down the row count from by a large margin. As such, I've changed the _Stage 2_ by replacing the empty values as follows:\n",
    "- Empty values in the numerical columns will be replaced with `0` (an empty value in a numerical column essentialy equates to zero)\n",
    "- Empty values of the categorical columns (text values) will be replaced with `Missing` (the `Missing` values can be removed when plotting graphs later on)"
   ]
  },
  {
   "cell_type": "code",
   "execution_count": 119,
   "metadata": {},
   "outputs": [
    {
     "name": "stdout",
     "output_type": "stream",
     "text": [
      "Stage 1: Removing columns with more than 70% missing values\n",
      "Columns with >70% missing values to be dropped: ['CDC_Name', 'CDC_Street', 'CDC_City', 'CDC_State', 'CDC_Zip', 'ThirdPartyLender_Name', 'ThirdPartyLender_City', 'ThirdPartyLender_State', 'ThirdPartyDollars', 'FranchiseCode', 'FranchiseName', 'ChargeoffDate', 'Year', 'BankNCUANumber']\n",
      "Number of columns to be dropped in Stage 1: 14\n",
      "Shape of dataset after Stage 1 (column removal): (52181, 40)\n",
      "\n",
      "Stage 2: Addition of 'sample' data\n",
      "Filled missing values in numerical columns with 0: ['BorrZip', 'LocationID', 'GrossApproval', 'ApprovalFY', 'TerminMonths', 'NAICSCode', 'CongressionalDistrict', 'GrossChargeoffAmount', 'JobsSupported', 'BankFDICNumber', 'BankZip', 'SBAGuaranteedApproval', 'InitialInterestRate', 'RevolverStatus']\n",
      "Filled missing values in categorical columns with 'Missing': ['AsOfDate', 'Program', 'BorrName', 'BorrStreet', 'BorrCity', 'BorrState', 'ApprovalDate', 'FirstDisbursementDate', 'ProcessingMethod', 'Subprogram', 'NAICSDescription', 'ProjectCounty', 'ProjectState', 'SBADistrictOffice', 'BusinessType', 'BusinessAge', 'LoanStatus', 'PaidinFullDate', 'CollateralInd', 'BankName', 'BankStreet', 'BankCity', 'BankState', 'FixedorVariableInterestRate', 'SoldSecondMarketInd']\n",
      "\n",
      "Final shape of the dataset after missing value imputation: (52178, 40)\n",
      "\n",
      "Missing values after two-stage imputation (should be all zeros): 0\n"
     ]
    }
   ],
   "source": [
    "# Missing Value Imputation: Two-Stage Approach\n",
    "\n",
    "# Stage 1: Column-wise Removal (Features with >70% Missing Values)\n",
    "print(\"Stage 1: Removing columns with more than 70% missing values\")\n",
    "\n",
    "# Calculate percentage of missing values for each column\n",
    "missing_percentages = df_filtered.isnull().sum() / len(df_filtered) * 100\n",
    "\n",
    "# Identify columns to drop (> 70% threshold)\n",
    "columns_to_drop_high_missing = missing_percentages[missing_percentages > 70].index.tolist()\n",
    "\n",
    "print(f\"Columns with >70% missing values to be dropped: {columns_to_drop_high_missing}\")\n",
    "print(f\"Number of columns to be dropped in Stage 1: {len(columns_to_drop_high_missing)}\")\n",
    "\n",
    "# Drop identified columns from Df\n",
    "df_processed = df_filtered.drop(columns=columns_to_drop_high_missing, axis=1)\n",
    "print(f\"Shape of dataset after Stage 1 (column removal): {df_processed.shape}\")\n",
    "\n",
    "\n",
    "# Stage 2: Addition of 'sample' data\n",
    "# To avoid dropping any rows, missing numerical values will be replaced with 0, and missing categorical values will be replaced with string value \"Missing\"\n",
    "print(\"\\nStage 2: Addition of 'sample' data\")\n",
    "\n",
    "# Identify numerical and categorical columns\n",
    "numerical_cols = df_processed.select_dtypes(include=np.number).columns.tolist()\n",
    "categorical_cols = df_processed.select_dtypes(include='object').columns.tolist()\n",
    "\n",
    "# Exclude response variable from numerical columns for imputation\n",
    "if 'LoanSuccess' in numerical_cols:\n",
    "    numerical_cols.remove('LoanSuccess')\n",
    "\n",
    "# Impute missing values in numerical columns with 0\n",
    "df_processed[numerical_cols] = df_processed[numerical_cols].fillna(0)\n",
    "print(f\"Filled missing values in numerical columns with 0: {numerical_cols}\")\n",
    "\n",
    "# Impute missing values in categorical columns with 'Missing'\n",
    "df_processed[categorical_cols] = df_processed[categorical_cols].fillna('Missing')\n",
    "print(f\"Filled missing values in categorical columns with 'Missing': {categorical_cols}\")\n",
    "\n",
    "# Drop NaN and empty string values from 'BusinessType'\n",
    "df_filtered = df_processed[df_processed['BusinessType'].notna()]\n",
    "df_filtered = df_filtered[df_filtered['BusinessType'].str.strip() != '']\n",
    "\n",
    "print(f\"\\nFinal shape of the dataset after missing value imputation: {df_filtered.shape}\")\n",
    "\n",
    "# Verify that there are no more missing values\n",
    "print(\"\\nMissing values after two-stage imputation (should be all zeros):\", df_filtered.isnull().sum().sum()) # Sum of all missing values in the DataFrame\n"
   ]
  },
  {
   "cell_type": "code",
   "execution_count": 120,
   "metadata": {},
   "outputs": [
    {
     "name": "stdout",
     "output_type": "stream",
     "text": [
      "Feature Exclusion\n",
      "Features identified for exclusion: ['ProjectState', 'ApprovalDate', 'BankZip', 'BorrCity', 'GrossChargeoffAmount', 'BorrStreet', 'CongressionalDistrict', 'BankFDICNumber', 'BorrZip', 'SBADistrictOffice', 'BankStreet', 'LocationID', 'FirstDisbursementDate', 'ProjectCounty', 'BankCity', 'PaidinFullDate', 'AsOfDate']\n",
      "Shape of dataset after excluding specified features: (52178, 23)\n",
      "\n",
      "Dropped 'LoanStatus' column as 'LoanSuccess' is the response variable\n",
      "Final shape before EDA and Feature Engineering: (52178, 22)\n"
     ]
    }
   ],
   "source": [
    "# Feature Exclusion\n",
    "# Exclude features that are direct outcomes/consequences of LoanStatus or are high textual data that will increase complexity of model prediction\n",
    "\n",
    "# LoanStatus Outcomes Features: These features would only be available after loan status is known, making them unsuitable for prediction\n",
    "loan_status_outcomes = [\n",
    "    'PaidinFullDate', 'ChargeoffDate', 'GrossChargeoffAmount'\n",
    "]\n",
    "\n",
    "# High Complexity Features: These are identifiers with high textual data. Including them directly will drastically increase the complexity, which can lead to overfitting\n",
    "high_complexity_features = [\n",
    "    'BorrStreet', 'BorrCity', 'BorrZip', 'BankStreet', 'BankCity', 'BankZip', 'CDC_Street', 'CDC_City', 'CDC_Zip', 'ThirdPartyLender_City', 'LocationID', 'BankFDICNumber', 'BankNCUANumber', 'FranchiseCode', 'FranchiseName', 'ProjectCounty', 'ProjectState', 'SBADistrictOffice', 'CongressionalDistrict', 'NaicsDescription', 'AsOfDate', 'ApprovalDate', 'FirstDisbursementDate', 'Year'\n",
    "]\n",
    "\n",
    "# Combine all features to exclude\n",
    "features_to_exclude = list(set(loan_status_outcomes + high_complexity_features))\n",
    "\n",
    "# Filter out only those features that actually exist in the current Df (some might have been dropped already in the missing value imputation stage)\n",
    "existing_features_to_exclude = [col for col in features_to_exclude if col in df_filtered.columns]\n",
    "\n",
    "print(f\"Feature Exclusion\")\n",
    "print(f\"Features identified for exclusion: {existing_features_to_exclude}\")\n",
    "\n",
    "# Drop identified features from Df\n",
    "df_final = df_filtered.drop(columns=existing_features_to_exclude, axis=1)\n",
    "print(f\"Shape of dataset after excluding specified features: {df_final.shape}\")\n",
    "\n",
    "# Ensure 'LoanStatus' is also dropped as we have 'LoanSuccess'\n",
    "if 'LoanStatus' in df_final.columns:\n",
    "    df_final.drop(columns=['LoanStatus'], inplace=True)\n",
    "    print(\"\\nDropped 'LoanStatus' column as 'LoanSuccess' is the response variable\")\n",
    "print(f\"Final shape before EDA and Feature Engineering: {df_final.shape}\")\n"
   ]
  },
  {
   "cell_type": "markdown",
   "metadata": {},
   "source": [
    "2. (a) Exploratory Data Analysis [EDA]"
   ]
  },
  {
   "cell_type": "code",
   "execution_count": 121,
   "metadata": {},
   "outputs": [
    {
     "data": {
      "image/png": "[encoded data removed]",
      "text/plain": [
       "<Figure size 1000x600 with 1 Axes>"
      ]
     },
     "metadata": {},
     "output_type": "display_data"
    },
    {
     "name": "stdout",
     "output_type": "stream",
     "text": [
      "Observation: 504 loans tend to have higher approval amounts than 7(a) loans\n"
     ]
    }
   ],
   "source": [
    "# Illustrate Loan Approval Amounts by Program\n",
    "plt.figure(figsize=(10, 6))\n",
    "sns.boxplot(x='Program', y='GrossApproval', data=df_final, palette='viridis', hue='Program', legend=False, showfliers=False)\n",
    "plt.title('Distribution of Gross Approval Amounts by Loan Program')\n",
    "plt.xlabel('Loan Program')\n",
    "plt.ylabel('Gross Approval Amount')\n",
    "plt.yscale('log') # Use log scale to handle wide range of values\n",
    "plt.show()\n",
    "print(\"Observation: 504 loans tend to have higher approval amounts than 7(a) loans\")\n"
   ]
  },
  {
   "cell_type": "code",
   "execution_count": 122,
   "metadata": {},
   "outputs": [
    {
     "data": {
      "image/png": "[encoded data removed]",
      "text/plain": [
       "<Figure size 600x400 with 1 Axes>"
      ]
     },
     "metadata": {},
     "output_type": "display_data"
    },
    {
     "name": "stdout",
     "output_type": "stream",
     "text": [
      "\n",
      "Observed Class Imbalance: The number of 'Paid In Full' loans significantly outnumbers 'Charged Off' loans\n",
      "This is a common characteristic of loan default datasets, reflecting a healthy lending portfolio\n"
     ]
    }
   ],
   "source": [
    "# Check distribution of response variable 'LoanSuccess' (to understand class imbalance)\n",
    "plt.figure(figsize=(6, 4))\n",
    "sns.countplot(x='LoanSuccess', data=df_final)\n",
    "plt.title('Distribution of Loan Success (0=Paid In Full, 1=Charged Off)')\n",
    "plt.xlabel('Loan Success Status')\n",
    "plt.ylabel('Number of Loans')\n",
    "plt.xticks(ticks=[0, 1], labels=['Paid In Full (0)', 'Charged Off (1)'])\n",
    "plt.grid(axis='y', linestyle='--', alpha=0.7)\n",
    "plt.tight_layout()\n",
    "plt.show()\n",
    "print(\"\\nObserved Class Imbalance: The number of 'Paid In Full' loans significantly outnumbers 'Charged Off' loans\")\n",
    "print(\"This is a common characteristic of loan default datasets, reflecting a healthy lending portfolio\")\n"
   ]
  },
  {
   "cell_type": "code",
   "execution_count": 123,
   "metadata": {},
   "outputs": [
    {
     "data": {
      "image/png": "[encoded data removed]",
      "text/plain": [
       "<Figure size 1000x600 with 1 Axes>"
      ]
     },
     "metadata": {},
     "output_type": "display_data"
    },
    {
     "name": "stdout",
     "output_type": "stream",
     "text": [
      "Observation: In 2021, lender have provided the maximum amount to small businesses\n"
     ]
    }
   ],
   "source": [
    "# Check the relationship between GrossApproval and Approval Fiscal Year (Bar Chart)\n",
    "plt.figure(figsize=(10, 6))\n",
    "sns.barplot(x='ApprovalFY', y='GrossApproval', data=df_final, palette='viridis', errorbar=None, hue='ApprovalFY')\n",
    "plt.title('Relationship between GrossApproval and Approval Fiscal Year')\n",
    "plt.xlabel('Approval Fiscal Year')\n",
    "plt.ylabel('Gross Approval Amount')\n",
    "plt.show()\n",
    "print(\"Observation: In 2021, lender have provided the maximum amount to small businesses\")\n"
   ]
  },
  {
   "cell_type": "code",
   "execution_count": 124,
   "metadata": {},
   "outputs": [
    {
     "data": {
      "image/png": "[encoded data removed]",
      "text/plain": [
       "<Figure size 1200x800 with 1 Axes>"
      ]
     },
     "metadata": {},
     "output_type": "display_data"
    }
   ],
   "source": [
    "# Stacked bar chart to show the count of successful and unsuccessful loans per year\n",
    "plt.figure(figsize=(12, 8))\n",
    "sns.histplot(data=df_final, x='ApprovalFY', hue='LoanSuccess', multiple='stack', shrink=0.8, discrete=True)\n",
    "plt.title('Count of Loan Success and Failure by Fiscal Year')\n",
    "plt.xlabel('Approval Fiscal Year')\n",
    "plt.ylabel('Count')\n",
    "plt.xticks(rotation=45, ha='right')\n",
    "plt.tight_layout()\n",
    "plt.show()"
   ]
  },
  {
   "cell_type": "markdown",
   "metadata": {},
   "source": [
    "# 3. Feature Engineering"
   ]
  },
  {
   "cell_type": "code",
   "execution_count": 125,
   "metadata": {},
   "outputs": [
    {
     "data": {
      "image/png": "[encoded data removed]",
      "text/plain": [
       "<Figure size 1000x600 with 1 Axes>"
      ]
     },
     "metadata": {},
     "output_type": "display_data"
    },
    {
     "name": "stdout",
     "output_type": "stream",
     "text": [
      "Observation: The plot shows the box for defaulted loans is larger, which means the SBA Guarantee ratios for the central 50% of these loans are more spread out compared to the successful loans.\n",
      "This difference in the data's spread still suggests the ratio could be a useful predictor.\n"
     ]
    }
   ],
   "source": [
    "# SBA Guarantee Ratio: SBAGuaranteedApproval / GrossApproval\n",
    "df_final['SBA_Guarantee_Ratio'] = np.where(df_final['GrossApproval'] != 0, df_final['SBAGuaranteedApproval'] / df_final['GrossApproval'], 0) # assign 0 if GrossApproval is 0 to avoid inf/NaN\n",
    "\n",
    "# SBA Guarantee Ratio Justification (Box Plot)\n",
    "plt.figure(figsize=(10, 6))\n",
    "sns.boxplot(x='LoanSuccess', y='SBA_Guarantee_Ratio', data=df_final, palette='coolwarm', showfliers=False, hue='LoanSuccess')\n",
    "plt.title('SBA Guarantee Ratio Distribution by Loan Success Status')\n",
    "plt.xlabel('Loan Success Status (0=Success, 1=Default)')\n",
    "plt.ylabel('SBA Guarantee Ratio (SBAGuaranteedApproval / GrossApproval)')\n",
    "plt.show()\n",
    "print(\"Observation: The plot shows the box for defaulted loans is larger, which means the SBA Guarantee ratios for the central 50% of these loans are more spread out compared to the successful loans.\\nThis difference in the data's spread still suggests the ratio could be a useful predictor.\")\n"
   ]
  },
  {
   "cell_type": "code",
   "execution_count": 126,
   "metadata": {},
   "outputs": [
    {
     "data": {
      "image/png": "[encoded data removed]",
      "text/plain": [
       "<Figure size 1000x600 with 1 Axes>"
      ]
     },
     "metadata": {},
     "output_type": "display_data"
    },
    {
     "name": "stdout",
     "output_type": "stream",
     "text": [
      "Observation: The graph shows that the median Loan Term Burden Ratio (line inside the box) is higher for successful loans (0) compared to defaulted loans (1).\n",
      "The central 50% of successfull loans (represented by the box) have a higher burden ratio than the that of the defaulted loans.\n",
      "This clear separation in medians and distributions suggests that loans with a higher burden ratios are more likely to be successfully repaid.\n"
     ]
    }
   ],
   "source": [
    "# Loan Term Burden Ratio: GrossApproval / TermInMonths\n",
    "df_final['Loan_Term_Burden_Ratio'] = np.where(df_final['TerminMonths'] != 0, df_final['GrossApproval'] / df_final['TerminMonths'], 0) # assign 0 if TerminMonths is 0\n",
    "\n",
    "# Loan Term Burden Ratio Justification (Box Plot)\n",
    "plt.figure(figsize=(10, 6))\n",
    "sns.boxplot(x='LoanSuccess', y='Loan_Term_Burden_Ratio', data=df_final, palette='coolwarm', showfliers=False, hue='LoanSuccess')\n",
    "plt.title('Loan Term Burden Ratio Distribution by Loan Success Status')\n",
    "plt.xlabel('Loan Success Status (0=Success, 1=Default)')\n",
    "plt.ylabel('Loan Term Burden Ratio (GrossApproval / TerminMonths)')\n",
    "plt.show()\n",
    "print(\"Observation: The graph shows that the median Loan Term Burden Ratio (line inside the box) is higher for successful loans (0) compared to defaulted loans (1).\\nThe central 50% of successfull loans (represented by the box) have a higher burden ratio than the that of the defaulted loans.\\nThis clear separation in medians and distributions suggests that loans with a higher burden ratios are more likely to be successfully repaid.\")\n"
   ]
  },
  {
   "cell_type": "code",
   "execution_count": 127,
   "metadata": {},
   "outputs": [
    {
     "name": "stderr",
     "output_type": "stream",
     "text": [
      "<>:14: SyntaxWarning: invalid escape sequence '\\A'\n",
      "<>:14: SyntaxWarning: invalid escape sequence '\\A'\n",
      "C:\\Users\\Abhiroop Kumar\\AppData\\Local\\Temp\\ipykernel_3484\\670748623.py:14: SyntaxWarning: invalid escape sequence '\\A'\n",
      "  print(\"Observation: The box plot shows differences in the distribution of the Jobs Impact Efficiency Ratio between successful loans (0) and defaulted loans (1).\\nThe median ratio (line inside the box) for successful loans is higher than for defaulted loans.\\Also, the box for defaulted loans is positioned at a lower range of values on the y-axis, indicating that the central 50% of these loans have a lower efficiency ratio compared to successful loans.\\nThe box for successful loans is also slightly wider, suggesting more variability within the central half of its distribution. This clear difference in both the median and distributions indicates its value as a predictor.\")\n"
     ]
    },
    {
     "data": {
      "image/png": "[encoded data removed]",
      "text/plain": [
       "<Figure size 1000x600 with 1 Axes>"
      ]
     },
     "metadata": {},
     "output_type": "display_data"
    },
    {
     "name": "stdout",
     "output_type": "stream",
     "text": [
      "Observation: The box plot shows differences in the distribution of the Jobs Impact Efficiency Ratio between successful loans (0) and defaulted loans (1).\n",
      "The median ratio (line inside the box) for successful loans is higher than for defaulted loans.\\Also, the box for defaulted loans is positioned at a lower range of values on the y-axis, indicating that the central 50% of these loans have a lower efficiency ratio compared to successful loans.\n",
      "The box for successful loans is also slightly wider, suggesting more variability within the central half of its distribution. This clear difference in both the median and distributions indicates its value as a predictor.\n"
     ]
    }
   ],
   "source": [
    "# Small epsilon value to avoid division by 0 for JobsSupported (adding small epsilon for ratios involving division as a safe practice)\n",
    "epsilon = 1e-6\n",
    "\n",
    "# Jobs Impact Efficiency Ratio: GrossApproval / JobsSupported\n",
    "df_final['Jobs_Impact_Efficiency_Ratio'] = np.where(df_final['JobsSupported'] != 0, df_final['GrossApproval'] / (df_final['JobsSupported'] + epsilon), 0) # assign 0 if JobsSupported is 0\n",
    "\n",
    "# Jobs Impact Efficiency Ratio Justification (Box Plot)\n",
    "plt.figure(figsize=(10, 6))\n",
    "sns.boxplot(x='LoanSuccess', y='Jobs_Impact_Efficiency_Ratio', data=df_final, palette='coolwarm', showfliers=False, hue='LoanSuccess')\n",
    "plt.title('Jobs Impact Efficiency Ratio Distribution by Loan Success Status')\n",
    "plt.xlabel('Loan Success Status (0=Success, 1=Default)')\n",
    "plt.ylabel('Jobs Impact Efficiency Ratio (GrossApproval / JobsSupported)')\n",
    "plt.show()\n",
    "print(\"Observation: The box plot shows differences in the distribution of the Jobs Impact Efficiency Ratio between successful loans (0) and defaulted loans (1).\\nThe median ratio (line inside the box) for successful loans is higher than for defaulted loans.\\Also, the box for defaulted loans is positioned at a lower range of values on the y-axis, indicating that the central 50% of these loans have a lower efficiency ratio compared to successful loans.\\nThe box for successful loans is also slightly wider, suggesting more variability within the central half of its distribution. This clear difference in both the median and distributions indicates its value as a predictor.\")\n"
   ]
  },
  {
   "cell_type": "code",
   "execution_count": 128,
   "metadata": {},
   "outputs": [
    {
     "name": "stdout",
     "output_type": "stream",
     "text": [
      "\n",
      "New engineered features created:\n",
      "    SBA_Guarantee_Ratio  Loan_Term_Burden_Ratio  Jobs_Impact_Efficiency_Ratio\n",
      "26                  0.0             1043.333333                 104333.298556\n",
      "45                  0.0             2243.333333                 112166.647972\n",
      "84                  0.0             4900.000000                  39199.998693\n",
      "86                  0.0             2863.333333                 286333.237889\n",
      "87                  0.0             3087.500000                  29639.998814\n"
     ]
    }
   ],
   "source": [
    "# Print new engineered features values\n",
    "print(\"\\nNew engineered features created:\")\n",
    "print(df_final[['SBA_Guarantee_Ratio', 'Loan_Term_Burden_Ratio', 'Jobs_Impact_Efficiency_Ratio']].head())\n"
   ]
  },
  {
   "cell_type": "markdown",
   "metadata": {},
   "source": [
    "3. (a) Categorical Feature Encoding [One-Hot Encoding]"
   ]
  },
  {
   "cell_type": "code",
   "execution_count": 129,
   "metadata": {},
   "outputs": [
    {
     "name": "stdout",
     "output_type": "stream",
     "text": [
      "Column 'Program': 2 unique value(s)\n",
      "Column 'BorrName': 47664 unique value(s)\n",
      "Column 'BorrState': 54 unique value(s)\n",
      "Column 'ProcessingMethod': 22 unique value(s)\n",
      "Column 'Subprogram': 12 unique value(s)\n",
      "Column 'NAICSDescription': 897 unique value(s)\n",
      "Column 'BusinessType': 3 unique value(s)\n",
      "Column 'BusinessAge': 6 unique value(s)\n",
      "Column 'CollateralInd': 2 unique value(s)\n",
      "Column 'BankName': 1512 unique value(s)\n",
      "Column 'BankState': 55 unique value(s)\n",
      "Column 'FixedorVariableInterestRate': 3 unique value(s)\n",
      "Categorical features to be One-Hot Encoded: ['Program', 'BorrState', 'ProcessingMethod', 'Subprogram', 'BusinessType', 'BusinessAge', 'CollateralInd', 'BankState', 'FixedorVariableInterestRate', 'SoldSecondMarketInd']\n",
      "\n",
      "Shape of the dataset after One-Hot Encoding: (52178, 163)\n",
      "    GrossApproval  ApprovalFY  TerminMonths  NAICSCode  JobsSupported  \\\n",
      "26       313000.0        2020           300   325411.0            3.0   \n",
      "45       673000.0        2020           300   325620.0            6.0   \n",
      "84      1176000.0        2020           240   321999.0           30.0   \n",
      "86       859000.0        2020           300   621112.0            3.0   \n",
      "87       741000.0        2020           240   327991.0           25.0   \n",
      "\n",
      "    SBAGuaranteedApproval  InitialInterestRate  RevolverStatus  LoanSuccess  \\\n",
      "26                    0.0                  0.0             0.0            0   \n",
      "45                    0.0                  0.0             0.0            0   \n",
      "84                    0.0                  0.0             0.0            0   \n",
      "86                    0.0                  0.0             0.0            0   \n",
      "87                    0.0                  0.0             0.0            0   \n",
      "\n",
      "    SBA_Guarantee_Ratio  ...  BankState_UT  BankState_VA  BankState_VT  \\\n",
      "26                  0.0  ...         False         False         False   \n",
      "45                  0.0  ...         False         False         False   \n",
      "84                  0.0  ...         False         False         False   \n",
      "86                  0.0  ...         False         False         False   \n",
      "87                  0.0  ...         False         False         False   \n",
      "\n",
      "    BankState_WA  BankState_WI  BankState_WV  BankState_WY  \\\n",
      "26         False         False         False         False   \n",
      "45         False         False         False         False   \n",
      "84         False         False         False         False   \n",
      "86         False         False         False         False   \n",
      "87         False         False         False         False   \n",
      "\n",
      "    FixedorVariableInterestRate_Missing  FixedorVariableInterestRate_V  \\\n",
      "26                                 True                          False   \n",
      "45                                 True                          False   \n",
      "84                                 True                          False   \n",
      "86                                 True                          False   \n",
      "87                                 True                          False   \n",
      "\n",
      "    SoldSecondMarketInd_Y  \n",
      "26                  False  \n",
      "45                  False  \n",
      "84                  False  \n",
      "86                  False  \n",
      "87                  False  \n",
      "\n",
      "[5 rows x 163 columns]\n",
      "(52178, 163)\n"
     ]
    }
   ],
   "source": [
    "# List of columns to get unique value count from\n",
    "columns_to_check = ['Program', 'BorrName', 'BorrState', 'ProcessingMethod', 'Subprogram', 'NAICSDescription', 'BusinessType', 'BusinessAge', 'CollateralInd', 'BankName', 'BankState', 'FixedorVariableInterestRate']\n",
    "\n",
    "# Get the count of unique values for each specified column\n",
    "for col in columns_to_check:\n",
    "    if col in df_final.columns:\n",
    "        unique_count = df_final[col].nunique()\n",
    "        print(f\"Column '{col}': {unique_count} unique value(s)\")\n",
    "    else:\n",
    "        print(f\"Column '{col}' not found in the DataFrame.\")\n",
    "\n",
    "# Drop columns with high value counts\n",
    "high_unique_value_counts_columns_to_drop = ['BorrName', 'NAICSDescription', 'BankName']\n",
    "\n",
    "# Drop the columns from the Df\n",
    "df_drop = df_final.copy()\n",
    "df_drop.drop(columns=high_unique_value_counts_columns_to_drop, axis=1, inplace=True)\n",
    "\n",
    "# Identify categorical columns that need encoding (excluding response variable 'LoanSuccess')\n",
    "categorical_features_for_encoding = df_drop.select_dtypes(include='object').columns.tolist()\n",
    "\n",
    "print(f\"Categorical features to be One-Hot Encoded: {categorical_features_for_encoding}\\n\")\n",
    "\n",
    "# One-Hot Encoding\n",
    "df_encoded = pd.get_dummies(df_drop, columns=categorical_features_for_encoding, drop_first=True)\n",
    "\n",
    "print(f\"Shape of the dataset after One-Hot Encoding: {df_encoded.shape}\")\n",
    "print(df_encoded.head())\n",
    "print(df_encoded.shape)"
   ]
  },
  {
   "cell_type": "markdown",
   "metadata": {},
   "source": [
    "# 5. Data Splitting"
   ]
  },
  {
   "cell_type": "code",
   "execution_count": 130,
   "metadata": {},
   "outputs": [
    {
     "name": "stdout",
     "output_type": "stream",
     "text": [
      "Shape of X_train: (41742, 162)\n",
      "Shape of X_test: (10436, 162)\n",
      "Shape of y_train: (41742,)\n",
      "Shape of y_test: (10436,)\n",
      "\n",
      "Class distribution in training set:\n",
      "LoanSuccess\n",
      "0    0.927124\n",
      "1    0.072876\n",
      "Name: proportion, dtype: float64\n",
      "\n",
      "Class distribution in test set:\n",
      "LoanSuccess\n",
      "0    0.927175\n",
      "1    0.072825\n",
      "Name: proportion, dtype: float64\n"
     ]
    }
   ],
   "source": [
    "# Declare features (X) and response (y)\n",
    "X = df_encoded.drop('LoanSuccess', axis=1) # all columns except 'LoanSuccess'\n",
    "y = df_encoded['LoanSuccess'] # The response variable\n",
    "\n",
    "# Split data into 80% training set and 20% test set\n",
    "X_train, X_test, y_train, y_test = train_test_split(X, y, test_size=0.2, random_state=42, stratify=y) # 'stratify=y' keeps the proportion of 'LoanSuccess' (0s and 1s) the same in both training and testing sets (required for imbalanced datasets)\n",
    "\n",
    "print(f\"Shape of X_train: {X_train.shape}\")\n",
    "print(f\"Shape of X_test: {X_test.shape}\")\n",
    "print(f\"Shape of y_train: {y_train.shape}\")\n",
    "print(f\"Shape of y_test: {y_test.shape}\")\n",
    "\n",
    "# Verify class distribution in training and test sets\n",
    "print(\"\\nClass distribution in training set:\")\n",
    "print(y_train.value_counts(normalize=True))\n",
    "print(\"\\nClass distribution in test set:\")\n",
    "print(y_test.value_counts(normalize=True))"
   ]
  },
  {
   "cell_type": "markdown",
   "metadata": {},
   "source": [
    "# 6. Model Development"
   ]
  },
  {
   "cell_type": "code",
   "execution_count": 131,
   "metadata": {},
   "outputs": [],
   "source": [
    "# Clean X_train & X_test for specific model requirements\n",
    "X_train.columns = [str(c).replace('[', '(').replace(']', ')').replace('<', '') for c in X_train.columns]\n",
    "X_test.columns = [str(c).replace('[', '(').replace(']', ')').replace('<', '') for c in X_test.columns]"
   ]
  },
  {
   "cell_type": "code",
   "execution_count": 132,
   "metadata": {},
   "outputs": [
    {
     "name": "stdout",
     "output_type": "stream",
     "text": [
      "Shape of X_train (Split): (6678, 162)\n",
      "Shape of X_test (Split): (1670, 162)\n",
      "Shape of y_train (Split): (6678,)\n",
      "Shape of y_test (Split): (1670,)\n"
     ]
    },
    {
     "name": "stderr",
     "output_type": "stream",
     "text": [
      "c:\\Users\\Abhiroop Kumar\\miniconda3\\Lib\\site-packages\\sklearn\\linear_model\\_sag.py:348: ConvergenceWarning: The max_iter was reached which means the coef_ did not converge\n",
      "  warnings.warn(\n"
     ]
    }
   ],
   "source": [
    "# Logistic Regression\n",
    "\n",
    "# Take a smaller subset of the training set for faster modeling\n",
    "X_train_small, _, y_train_small, _ = train_test_split(\n",
    "    X_train, y_train, \n",
    "    train_size=0.2,   # Only 20% of the training set → ~13k rows\n",
    "    random_state=42, \n",
    "    stratify=y_train\n",
    ")\n",
    "\n",
    "# Second split: Train (80%), Validation (20%) from the smaller set\n",
    "X_train_final, X_val, y_train_final, y_val = train_test_split(\n",
    "    X_train_small, y_train_small,\n",
    "    test_size=0.2,\n",
    "    random_state=42,\n",
    "    stratify=y_train_small\n",
    ")\n",
    "\n",
    "# You can now fit your model on X_train_final instead of full X_train\n",
    "\n",
    "print(f\"Shape of X_train (Split): {X_train_final.shape}\")\n",
    "print(f\"Shape of X_test (Split): {X_val.shape}\")\n",
    "print(f\"Shape of y_train (Split): {y_train_final.shape}\")\n",
    "print(f\"Shape of y_test (Split): {y_val.shape}\")\n",
    "\n",
    "lm_model = LogisticRegression(solver='saga', max_iter=1000)\n",
    "lm_model.fit(X_train_final, y_train_final)\n",
    "\n",
    "lm_pred = lm_model.predict(X_val)"
   ]
  },
  {
   "cell_type": "code",
   "execution_count": 133,
   "metadata": {},
   "outputs": [],
   "source": [
    "# Random Forest\n",
    "\n",
    "# Initialize Random Forest Classifier and fit model\n",
    "rf_model = RandomForestClassifier(n_estimators=100, random_state=42)\n",
    "rf_model.fit(X_train, y_train)\n",
    "\n",
    "# Test set prediction\n",
    "rf_pred = rf_model.predict(X_test)\n"
   ]
  },
  {
   "cell_type": "code",
   "execution_count": 134,
   "metadata": {},
   "outputs": [
    {
     "name": "stderr",
     "output_type": "stream",
     "text": [
      "c:\\Users\\Abhiroop Kumar\\miniconda3\\Lib\\site-packages\\xgboost\\training.py:183: UserWarning: [23:44:00] WARNING: C:\\actions-runner\\_work\\xgboost\\xgboost\\src\\learner.cc:738: \n",
      "Parameters: { \"use_label_encoder\" } are not used.\n",
      "\n",
      "  bst.update(dtrain, iteration=i, fobj=obj)\n"
     ]
    }
   ],
   "source": [
    "# XGBoost\n",
    "\n",
    "xgb_model = xgb.XGBClassifier(use_label_encoder=True, eval_metric='logloss', random_state=42)\n",
    "xgb_model.fit(X_train, y_train)\n",
    "\n",
    "# Predictions\n",
    "xgb_pred = xgb_model.predict(X_test)"
   ]
  },
  {
   "cell_type": "markdown",
   "metadata": {},
   "source": [
    "# 7. Model Development (with Weights)"
   ]
  },
  {
   "cell_type": "code",
   "execution_count": 135,
   "metadata": {},
   "outputs": [
    {
     "name": "stderr",
     "output_type": "stream",
     "text": [
      "c:\\Users\\Abhiroop Kumar\\miniconda3\\Lib\\site-packages\\sklearn\\linear_model\\_sag.py:348: ConvergenceWarning: The max_iter was reached which means the coef_ did not converge\n",
      "  warnings.warn(\n"
     ]
    }
   ],
   "source": [
    "# Logistic Regression\n",
    "\n",
    "# Add class_weight='balanced' to handle class imbalance \n",
    "lm_model_weights = LogisticRegression(solver='saga', max_iter=1000, class_weight='balanced', random_state=42)\n",
    "\n",
    "lm_model_weights.fit(X_train_final, y_train_final)\n",
    "\n",
    "lm_pred_weights = lm_model_weights.predict(X_val)"
   ]
  },
  {
   "cell_type": "code",
   "execution_count": 136,
   "metadata": {},
   "outputs": [
    {
     "name": "stdout",
     "output_type": "stream",
     "text": [
      "Calculated class weights: {np.int64(0): np.float64(0.5393023255813953), np.int64(1): np.float64(6.8609467455621305)}\n"
     ]
    }
   ],
   "source": [
    "# Random Forest\n",
    "\n",
    "# Calculate class weights\n",
    "classes = np.unique(y_train)\n",
    "weights = compute_class_weight(class_weight='balanced', classes=classes, y=y_train)\n",
    "class_weights_dict = dict(zip(classes, weights))\n",
    "print(f\"Calculated class weights: {class_weights_dict}\")\n",
    "\n",
    "# Initialize Random Forest Classifier with class_weight='balanced'\n",
    "rf_model_weighted = RandomForestClassifier(n_estimators=100, random_state=42, class_weight='balanced')\n",
    "rf_model_weighted.fit(X_train, y_train)\n",
    "\n",
    "# Test set prediction\n",
    "rf_pred_weighted = rf_model_weighted.predict(X_test)"
   ]
  },
  {
   "cell_type": "code",
   "execution_count": 137,
   "metadata": {},
   "outputs": [
    {
     "name": "stdout",
     "output_type": "stream",
     "text": [
      "scale_pos_weight: 12.72\n"
     ]
    },
    {
     "name": "stderr",
     "output_type": "stream",
     "text": [
      "c:\\Users\\Abhiroop Kumar\\miniconda3\\Lib\\site-packages\\xgboost\\training.py:183: UserWarning: [23:44:20] WARNING: C:\\actions-runner\\_work\\xgboost\\xgboost\\src\\learner.cc:738: \n",
      "Parameters: { \"use_label_encoder\" } are not used.\n",
      "\n",
      "  bst.update(dtrain, iteration=i, fobj=obj)\n"
     ]
    }
   ],
   "source": [
    "# XGBoost\n",
    "\n",
    "# Calculate weightage\n",
    "neg, pos = np.bincount(y_train)\n",
    "scale_pos_weight = neg / pos\n",
    "print(f\"scale_pos_weight: {scale_pos_weight:.2f}\")\n",
    "\n",
    "# Model\n",
    "xgb_model_weighted = xgb.XGBClassifier(\n",
    "    use_label_encoder=False,\n",
    "    eval_metric='logloss',\n",
    "    scale_pos_weight=scale_pos_weight,\n",
    "    random_state=42\n",
    ")\n",
    "xgb_model_weighted.fit(X_train, y_train)\n",
    "\n",
    "# Predictions\n",
    "xgb_pred_weighted = xgb_model_weighted.predict(X_test)"
   ]
  },
  {
   "cell_type": "markdown",
   "metadata": {},
   "source": [
    "# 8. Confusion Matrix"
   ]
  },
  {
   "cell_type": "markdown",
   "metadata": {},
   "source": [
    "- [TN, FP]\n",
    "- [FN, TP]"
   ]
  },
  {
   "cell_type": "markdown",
   "metadata": {},
   "source": [
    "- True Negative (TN): Correctly predicted non-defaults\n",
    "- False Positive (FP): Incorrectly predicted defaults\n",
    "- False Negative (FN): Incorrectly predicted non-defaults\n",
    "- True Positive (TP): Correctly predicted defaults"
   ]
  },
  {
   "cell_type": "code",
   "execution_count": 138,
   "metadata": {},
   "outputs": [
    {
     "name": "stdout",
     "output_type": "stream",
     "text": [
      "Confusion Matrix:\n",
      " [[1548    0]\n",
      " [ 122    0]]\n"
     ]
    }
   ],
   "source": [
    "# Logistic Regression Confusion Matrix\n",
    "print(\"Confusion Matrix:\\n\", confusion_matrix(y_val, lm_pred))\n"
   ]
  },
  {
   "cell_type": "code",
   "execution_count": 139,
   "metadata": {},
   "outputs": [
    {
     "name": "stdout",
     "output_type": "stream",
     "text": [
      "Confusion Matrix:\n",
      " [[701 847]\n",
      " [ 24  98]]\n"
     ]
    }
   ],
   "source": [
    "# Logistic Regression Confusion Matrix (With Weights)\n",
    "print(\"Confusion Matrix:\\n\", confusion_matrix(y_val, lm_pred_weights))\n"
   ]
  },
  {
   "cell_type": "code",
   "execution_count": 140,
   "metadata": {},
   "outputs": [
    {
     "name": "stdout",
     "output_type": "stream",
     "text": [
      "\n",
      "Confusion Matrix:\n",
      "[[9635   41]\n",
      " [ 323  437]]\n"
     ]
    }
   ],
   "source": [
    "# Random Forest Confusion Matrix\n",
    "\n",
    "rf_conf_matrix = confusion_matrix(y_test, rf_pred)\n",
    "print(\"\\nConfusion Matrix:\")\n",
    "print(rf_conf_matrix)\n"
   ]
  },
  {
   "cell_type": "code",
   "execution_count": 141,
   "metadata": {},
   "outputs": [
    {
     "name": "stdout",
     "output_type": "stream",
     "text": [
      "\n",
      "Confusion Matrix:\n",
      "[[9638   38]\n",
      " [ 312  448]]\n"
     ]
    }
   ],
   "source": [
    "# Random Forest Confusion Matrix (with weights)\n",
    "\n",
    "rf_conf_matrix_weighted = confusion_matrix(y_test, rf_pred_weighted)\n",
    "print(\"\\nConfusion Matrix:\")\n",
    "print(rf_conf_matrix_weighted)\n"
   ]
  },
  {
   "cell_type": "code",
   "execution_count": 142,
   "metadata": {},
   "outputs": [
    {
     "name": "stdout",
     "output_type": "stream",
     "text": [
      "\n",
      "Confusion Matrix:\n",
      "[[9602   74]\n",
      " [ 172  588]]\n"
     ]
    }
   ],
   "source": [
    "# XGBoost Confusion Matrix\n",
    "\n",
    "xgb_cm = confusion_matrix(y_test, xgb_pred)\n",
    "print(\"\\nConfusion Matrix:\")\n",
    "print(xgb_cm)\n"
   ]
  },
  {
   "cell_type": "code",
   "execution_count": 143,
   "metadata": {},
   "outputs": [
    {
     "name": "stdout",
     "output_type": "stream",
     "text": [
      "\n",
      "Confusion Matrix:\n",
      "[[9451  225]\n",
      " [  78  682]]\n"
     ]
    }
   ],
   "source": [
    "# XGBoost Confusion Matrix (with weights)\n",
    "\n",
    "# Confusion Matrix\n",
    "xgb_cm_weighted = confusion_matrix(y_test, xgb_pred_weighted)\n",
    "print(\"\\nConfusion Matrix:\")\n",
    "print(xgb_cm_weighted)\n"
   ]
  },
  {
   "cell_type": "markdown",
   "metadata": {},
   "source": [
    "# 9. Model Evaluation and Interpretation"
   ]
  },
  {
   "cell_type": "markdown",
   "metadata": {},
   "source": [
    "Key Metrics: Accuracy, Precision, Recall"
   ]
  },
  {
   "cell_type": "markdown",
   "metadata": {},
   "source": [
    "Formulae:\n",
    "- Accuracy = {TP + TN} / {TP + TN + FP + FN}\n",
    "- Precision = {TP} / {TP + FP}\n",
    "- Recall = {TP} / {TP + FN}"
   ]
  },
  {
   "cell_type": "code",
   "execution_count": 144,
   "metadata": {},
   "outputs": [
    {
     "name": "stdout",
     "output_type": "stream",
     "text": [
      "\n",
      "Accuracy: 92.69%\n",
      "Precision: 0.00%\n",
      "Recall: 0.0000\n"
     ]
    },
    {
     "name": "stderr",
     "output_type": "stream",
     "text": [
      "c:\\Users\\Abhiroop Kumar\\miniconda3\\Lib\\site-packages\\sklearn\\metrics\\_classification.py:1731: UndefinedMetricWarning: Precision is ill-defined and being set to 0.0 due to no predicted samples. Use `zero_division` parameter to control this behavior.\n",
      "  _warn_prf(average, modifier, f\"{metric.capitalize()} is\", result.shape[0])\n"
     ]
    }
   ],
   "source": [
    "# Logistic Regression Metrics\n",
    "\n",
    "lm_accuracy = accuracy_score(y_val, lm_pred)\n",
    "lm_precision = precision_score(y_val, lm_pred)\n",
    "lm_recall = recall_score(y_val, lm_pred)\n",
    "\n",
    "print(f\"\\nAccuracy: {lm_accuracy:.2%}\")\n",
    "print(f\"Precision: {lm_precision:.2%}\")\n",
    "print(f\"Recall: {lm_recall:.4f}\")"
   ]
  },
  {
   "cell_type": "code",
   "execution_count": 145,
   "metadata": {},
   "outputs": [
    {
     "name": "stdout",
     "output_type": "stream",
     "text": [
      "\n",
      "Accuracy: 47.84%\n",
      "Precision: 10.37%\n",
      "Recall: 0.8033\n"
     ]
    }
   ],
   "source": [
    "# Logistic Regression Metrics (with weights)\n",
    "\n",
    "lm_accuracy_weights = accuracy_score(y_val, lm_pred_weights)\n",
    "lm_precision_weights = precision_score(y_val, lm_pred_weights)\n",
    "lm_recall_weights = recall_score(y_val, lm_pred_weights)\n",
    "\n",
    "print(f\"\\nAccuracy: {lm_accuracy_weights:.2%}\")\n",
    "print(f\"Precision: {lm_precision_weights:.2%}\")\n",
    "print(f\"Recall: {lm_recall_weights:.4f}\")"
   ]
  },
  {
   "cell_type": "code",
   "execution_count": 146,
   "metadata": {},
   "outputs": [
    {
     "name": "stdout",
     "output_type": "stream",
     "text": [
      "\n",
      "Accuracy: 96.51%\n",
      "Precision: 91.42%\n",
      "Recall: 0.5750\n"
     ]
    }
   ],
   "source": [
    "# Random Forest Metrics\n",
    "\n",
    "rf_accuracy = accuracy_score(y_test, rf_pred)\n",
    "rf_precision = precision_score(y_test, rf_pred, zero_division=1)\n",
    "rf_recall = recall_score(y_test, rf_pred)\n",
    "\n",
    "print(f\"\\nAccuracy: {rf_accuracy:.2%}\")\n",
    "print(f\"Precision: {rf_precision:.2%}\")\n",
    "print(f\"Recall: {rf_recall:.4f}\")"
   ]
  },
  {
   "cell_type": "code",
   "execution_count": 147,
   "metadata": {},
   "outputs": [
    {
     "name": "stdout",
     "output_type": "stream",
     "text": [
      "\n",
      "Accuracy: 96.65%\n",
      "Precision: 92.18%\n",
      "Recall: 0.5895\n"
     ]
    }
   ],
   "source": [
    "# Random Forest Metrics (with weights)\n",
    "\n",
    "rf_accuracy_weighted = accuracy_score(y_test, rf_pred_weighted)\n",
    "rf_precision_weighted = precision_score(y_test, rf_pred_weighted, zero_division=1)\n",
    "rf_recall_weighted = recall_score(y_test, rf_pred_weighted)\n",
    "\n",
    "print(f\"\\nAccuracy: {rf_accuracy_weighted:.2%}\")\n",
    "print(f\"Precision: {rf_precision_weighted:.2%}\")\n",
    "print(f\"Recall: {rf_recall_weighted:.4f}\")"
   ]
  },
  {
   "cell_type": "code",
   "execution_count": 148,
   "metadata": {},
   "outputs": [
    {
     "name": "stdout",
     "output_type": "stream",
     "text": [
      "\n",
      "Accuracy: 97.64%\n",
      "Precision: 97.55%\n",
      "Recall: 0.9764\n"
     ]
    }
   ],
   "source": [
    "# XGBoost Metrics\n",
    "\n",
    "xgb_accuracy = accuracy_score(y_test, xgb_pred)\n",
    "xgb_precision = precision_score(y_test, xgb_pred, average='weighted')  # change average if binary\n",
    "xgb_recall = recall_score(y_test, xgb_pred, average='weighted')\n",
    "\n",
    "print(f\"\\nAccuracy: {xgb_accuracy:.2%}\")\n",
    "print(f\"Precision: {xgb_precision:.2%}\")\n",
    "print(f\"Recall: {xgb_recall:.4f}\")\n"
   ]
  },
  {
   "cell_type": "code",
   "execution_count": 149,
   "metadata": {},
   "outputs": [
    {
     "name": "stdout",
     "output_type": "stream",
     "text": [
      "\n",
      "Accuracy: 97.10%\n",
      "Precision: 97.43%\n",
      "Recall: 0.9710\n"
     ]
    }
   ],
   "source": [
    "# XGBoost Metrics (with weights)\n",
    "\n",
    "xgb_accuracy_weighted = accuracy_score(y_test, xgb_pred_weighted)\n",
    "xgb_precision_weighted = precision_score(y_test, xgb_pred_weighted, average='weighted')  # change average if binary\n",
    "xgb_recall_weighted = recall_score(y_test, xgb_pred_weighted, average='weighted')\n",
    "\n",
    "print(f\"\\nAccuracy: {xgb_accuracy_weighted:.2%}\")\n",
    "print(f\"Precision: {xgb_precision_weighted:.2%}\")\n",
    "print(f\"Recall: {xgb_recall_weighted:.4f}\")\n"
   ]
  },
  {
   "cell_type": "markdown",
   "metadata": {},
   "source": [
    "**THE END**"
   ]
  }
 ],
 "metadata": {
  "kernelspec": {
   "display_name": "base",
   "language": "python",
   "name": "python3"
  },
  "language_info": {
   "codemirror_mode": {
    "name": "ipython",
    "version": 3
   },
   "file_extension": ".py",
   "mimetype": "text/x-python",
   "name": "python",
   "nbconvert_exporter": "python",
   "pygments_lexer": "ipython3",
   "version": "3.13.5"
  }
 },
 "nbformat": 4,
 "nbformat_minor": 0
}
